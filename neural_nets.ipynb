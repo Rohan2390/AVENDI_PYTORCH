{
  "nbformat": 4,
  "nbformat_minor": 0,
  "metadata": {
    "colab": {
      "provenance": [],
      "mount_file_id": "10XuUtPy-4-jvHLaYBIH911uLJS6mjX8J",
      "authorship_tag": "ABX9TyMIcz8AznbeguzAZLEdA0uh",
      "include_colab_link": true
    },
    "kernelspec": {
      "name": "python3",
      "display_name": "Python 3"
    },
    "language_info": {
      "name": "python"
    }
  },
  "cells": [
    {
      "cell_type": "markdown",
      "metadata": {
        "id": "view-in-github",
        "colab_type": "text"
      },
      "source": [
        "<a href=\"https://colab.research.google.com/github/Rohan2390/AVENDI_PYTORCH/blob/main/neural_nets.ipynb\" target=\"_parent\"><img src=\"https://colab.research.google.com/assets/colab-badge.svg\" alt=\"Open In Colab\"/></a>"
      ]
    },
    {
      "cell_type": "code",
      "execution_count": 4,
      "metadata": {
        "id": "q4okYi8jFV1Y"
      },
      "outputs": [],
      "source": [
        "#imports\n",
        "import torch\n",
        "import torchvision\n",
        "import torch.nn as nn\n",
        "import torch.optim as optim\n",
        "import torch.nn.functional as F # relu,tanh,etc\n",
        "from torch.utils.data import DataLoader # easier dataset managememt (minibatches)\n",
        "import torchvision.datasets as Datasets\n",
        "import torchvision.transforms as transforms #used for transform ationms to perform on datsets"
      ]
    },
    {
      "cell_type": "code",
      "source": [
        "#create a fully connected network\n",
        "class NN(nn.Module):\n",
        "    def __init__(self, input_size, num_classes):\n",
        "        super(NN, self).__init__()\n",
        "        # Our first linear layer take input_size, in this case 784 nodes to 50\n",
        "        # and our second linear layer takes 50 to the num_classes we have, in\n",
        "        # this case 10.\n",
        "        self.fc1 = nn.Linear(input_size, 50)\n",
        "        self.fc2 = nn.Linear(50, num_classes)\n",
        "\n",
        "    def forward(self, x):\n",
        "        \"\"\"\n",
        "        x here is the mnist images and we run it through fc1, fc2 that we created above.\n",
        "        we also add a ReLU activation function in between and for that (since it has no parameters)\n",
        "        I recommend using nn.functional (F)\n",
        "        \"\"\"\n",
        "\n",
        "        x = F.relu(self.fc1(x))\n",
        "        x = self.fc2(x)\n",
        "        return x"
      ],
      "metadata": {
        "id": "N6sZ80hcI5Jj"
      },
      "execution_count": 6,
      "outputs": []
    },
    {
      "cell_type": "code",
      "source": [
        "#check whether it is working or not\n",
        "model = NN(784,10)\n",
        "x = torch.randn(64,784)\n",
        "model(x).shape"
      ],
      "metadata": {
        "colab": {
          "base_uri": "https://localhost:8080/"
        },
        "id": "OCqGzvK7JJCW",
        "outputId": "ad87e1dd-77e8-4862-80b8-bea1cc6eabaa"
      },
      "execution_count": 9,
      "outputs": [
        {
          "output_type": "execute_result",
          "data": {
            "text/plain": [
              "torch.Size([64, 10])"
            ]
          },
          "metadata": {},
          "execution_count": 9
        }
      ]
    },
    {
      "cell_type": "code",
      "source": [
        "#set device\n",
        "device = torch.device('cuda' if torch.cuda.is_available()else 'cpu')"
      ],
      "metadata": {
        "id": "i81JGSh0JUBs"
      },
      "execution_count": 10,
      "outputs": []
    },
    {
      "cell_type": "code",
      "source": [
        "#hyperparameters\n",
        "input_size = 784\n",
        "num_classes = 10\n",
        "batch_size = 64\n",
        "lr = 0.001\n",
        "num_epochs = 100"
      ],
      "metadata": {
        "id": "_pT3p0O3J39F"
      },
      "execution_count": 11,
      "outputs": []
    },
    {
      "cell_type": "code",
      "source": [
        "#load data\n",
        "train_dataset = Datasets.MNIST(root = '/content/drive/MyDrive/PYTORCH_AVENDI/MNIST' , train = True,transform = transforms.ToTensor(),download = True)\n",
        "test_dataset = Datasets.MNIST(root = '/content/drive/MyDrive/PYTORCH_AVENDI/MNIST' , train = False,transform = transforms.ToTensor(),download = True) \n",
        "train_loader = DataLoader(dataset = train_dataset , batch_size = batch_size , shuffle = True)\n",
        "test_loader = DataLoader(dataset = test_dataset , batch_size = batch_size , shuffle = False)"
      ],
      "metadata": {
        "id": "MPhoyT2XKKWK"
      },
      "execution_count": 18,
      "outputs": []
    },
    {
      "cell_type": "code",
      "source": [
        "#initialize network\n",
        "model = NN(input_size = input_size , num_classes = num_classes)"
      ],
      "metadata": {
        "id": "mYBIGLsoPCJ8"
      },
      "execution_count": 19,
      "outputs": []
    },
    {
      "cell_type": "code",
      "source": [
        "#loss and optimizers\n",
        "criterion = nn.CrossEntropyLoss()\n",
        "optimizer = optim.Adam(model.parameters() , lr = lr)"
      ],
      "metadata": {
        "id": "7PLxmhQvPbRh"
      },
      "execution_count": 21,
      "outputs": []
    },
    {
      "cell_type": "code",
      "source": [
        "#train the network\n",
        "for epoch in range(num_epochs):\n",
        "    for batch_idx, (data , targets) in enumerate(train_loader):\n",
        "\n",
        "        data = data.to(device = device)\n",
        "        targets = targets.to(device = device)\n",
        "\n",
        "\n",
        "        data = data.reshape(data.shape[0], -1) #to flatten\n",
        "\n",
        "\n",
        "        #forward prop\n",
        "        forward_prop = model(data)\n",
        "        loss = criterion(forward_prop , targets)\n",
        "\n",
        "        #backward prop\n",
        "        optimizer.zero_grad()\n",
        "        loss.backward()\n",
        "\n",
        "        #update by adam\n",
        "        optimizer.step()\n",
        "\n"
      ],
      "metadata": {
        "id": "5TNy0swYP2f7"
      },
      "execution_count": 24,
      "outputs": []
    },
    {
      "cell_type": "code",
      "source": [
        "def check_accuracy(loader, model):\n",
        "    num_correct = 0\n",
        "    num_samples = 0\n",
        "    model.eval()\n",
        "\n",
        "    with torch.no_grad():\n",
        "        for x, y in loader:\n",
        "            x = x.to(device=device)\n",
        "            y = y.to(device=device)\n",
        "            x = x.reshape(x.shape[0], -1)\n",
        "\n",
        "            scores = model(x)\n",
        "            _, predictions = scores.max(1)\n",
        "            num_correct += (predictions == y).sum()\n",
        "            num_samples += predictions.size(0)\n",
        "\n",
        "    model.train()\n",
        "    return num_correct/num_samples\n",
        "\n",
        "\n",
        "print(f\"Accuracy on training set: {check_accuracy(train_loader, model)*100:.2f}\")\n",
        "print(f\"Accuracy on test set: {check_accuracy(test_loader, model)*100:.2f}\")"
      ],
      "metadata": {
        "colab": {
          "base_uri": "https://localhost:8080/"
        },
        "id": "0p74fEy8SGvV",
        "outputId": "275d348b-7642-43b2-fb22-b519ccd51cde"
      },
      "execution_count": 25,
      "outputs": [
        {
          "output_type": "stream",
          "name": "stdout",
          "text": [
            "Accuracy on training set: 95.09\n",
            "Accuracy on test set: 94.98\n"
          ]
        }
      ]
    }
  ]
}