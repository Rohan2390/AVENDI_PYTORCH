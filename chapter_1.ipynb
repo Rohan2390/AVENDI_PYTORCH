{
  "nbformat": 4,
  "nbformat_minor": 0,
  "metadata": {
    "colab": {
      "name": "chapter_1.ipynb",
      "provenance": [],
      "collapsed_sections": [],
      "mount_file_id": "1cRPmueLi7rABbhYjWp595AlM-GRkHRNW",
      "authorship_tag": "ABX9TyP+fZUp9cPsE+sgaN23juoV",
      "include_colab_link": true
    },
    "kernelspec": {
      "name": "python3",
      "display_name": "Python 3"
    },
    "language_info": {
      "name": "python"
    }
  },
  "cells": [
    {
      "cell_type": "markdown",
      "metadata": {
        "id": "view-in-github",
        "colab_type": "text"
      },
      "source": [
        "<a href=\"https://colab.research.google.com/github/Rohan2390/AVENDI_PYTORCH/blob/main/chapter_1.ipynb\" target=\"_parent\"><img src=\"https://colab.research.google.com/assets/colab-badge.svg\" alt=\"Open In Colab\"/></a>"
      ]
    },
    {
      "cell_type": "markdown",
      "source": [
        "# Loading data\n"
      ],
      "metadata": {
        "id": "vAriZhoUa4EN"
      }
    },
    {
      "cell_type": "code",
      "source": [
        "from torchvision import datasets\n",
        "path2data = \"/content/drive/MyDrive/PYTORCH_AVENDI\"\n",
        "train_data = datasets.MNIST(path2data , train = True , download = True)"
      ],
      "metadata": {
        "id": "a0MWYsUFa-T2"
      },
      "execution_count": null,
      "outputs": []
    },
    {
      "cell_type": "code",
      "source": [
        "x_train , y_train = train_data.data , train_data.targets"
      ],
      "metadata": {
        "id": "GWOifw7gcboV"
      },
      "execution_count": null,
      "outputs": []
    },
    {
      "cell_type": "code",
      "source": [
        "print(x_train.shape)\n",
        "\n",
        "print(y_train.shape)"
      ],
      "metadata": {
        "colab": {
          "base_uri": "https://localhost:8080/"
        },
        "id": "C0ppH6fxdPGF",
        "outputId": "e3e95a9d-6a8c-4539-dd78-6d61902577df"
      },
      "execution_count": null,
      "outputs": [
        {
          "output_type": "stream",
          "name": "stdout",
          "text": [
            "torch.Size([60000, 28, 28])\n",
            "torch.Size([60000])\n"
          ]
        }
      ]
    },
    {
      "cell_type": "code",
      "source": [
        "for x,y in train_data:   \n",
        "   print(x.shape,y.item())    \n",
        "   break"
      ],
      "metadata": {
        "colab": {
          "base_uri": "https://localhost:8080/",
          "height": 201
        },
        "id": "yKBb-3bBzHDS",
        "outputId": "4537ad1e-5ed0-4b0e-bb18-0487337f2484"
      },
      "execution_count": null,
      "outputs": [
        {
          "output_type": "error",
          "ename": "AttributeError",
          "evalue": "ignored",
          "traceback": [
            "\u001b[0;31m---------------------------------------------------------------------------\u001b[0m",
            "\u001b[0;31mAttributeError\u001b[0m                            Traceback (most recent call last)",
            "\u001b[0;32m<ipython-input-4-4aeffba857ab>\u001b[0m in \u001b[0;36m<module>\u001b[0;34m()\u001b[0m\n\u001b[1;32m      1\u001b[0m \u001b[0;32mfor\u001b[0m \u001b[0mx\u001b[0m\u001b[0;34m,\u001b[0m\u001b[0my\u001b[0m \u001b[0;32min\u001b[0m \u001b[0mtrain_data\u001b[0m\u001b[0;34m:\u001b[0m\u001b[0;34m\u001b[0m\u001b[0;34m\u001b[0m\u001b[0m\n\u001b[0;32m----> 2\u001b[0;31m    \u001b[0mprint\u001b[0m\u001b[0;34m(\u001b[0m\u001b[0mx\u001b[0m\u001b[0;34m.\u001b[0m\u001b[0mshape\u001b[0m\u001b[0;34m,\u001b[0m\u001b[0my\u001b[0m\u001b[0;34m.\u001b[0m\u001b[0mitem\u001b[0m\u001b[0;34m(\u001b[0m\u001b[0;34m)\u001b[0m\u001b[0;34m)\u001b[0m\u001b[0;34m\u001b[0m\u001b[0;34m\u001b[0m\u001b[0m\n\u001b[0m\u001b[1;32m      3\u001b[0m    \u001b[0;32mbreak\u001b[0m\u001b[0;34m\u001b[0m\u001b[0;34m\u001b[0m\u001b[0m\n",
            "\u001b[0;31mAttributeError\u001b[0m: 'Image' object has no attribute 'shape'"
          ]
        }
      ]
    },
    {
      "cell_type": "code",
      "source": [
        "val_data = datasets.MNIST(path2data , train = False , download = True)"
      ],
      "metadata": {
        "id": "64ISbwaZdSZ1"
      },
      "execution_count": null,
      "outputs": []
    },
    {
      "cell_type": "code",
      "source": [
        "x_val , y_val = val_data.data , val_data.targets"
      ],
      "metadata": {
        "id": "k909HebwdrZF"
      },
      "execution_count": null,
      "outputs": []
    },
    {
      "cell_type": "code",
      "source": [
        "print(x_val.shape)\n",
        "print(y_val.shape)"
      ],
      "metadata": {
        "colab": {
          "base_uri": "https://localhost:8080/"
        },
        "id": "ZH70vRebd5Y1",
        "outputId": "47724cd2-5e78-4616-a083-dc62702dd810"
      },
      "execution_count": null,
      "outputs": [
        {
          "output_type": "stream",
          "name": "stdout",
          "text": [
            "torch.Size([10000, 28, 28])\n",
            "torch.Size([10000])\n"
          ]
        }
      ]
    },
    {
      "cell_type": "code",
      "source": [
        "x_train = x_train.unsqueeze(1)"
      ],
      "metadata": {
        "id": "EpZc9wf4ga3W"
      },
      "execution_count": null,
      "outputs": []
    },
    {
      "cell_type": "code",
      "source": [
        "print(x_train.shape)\n"
      ],
      "metadata": {
        "colab": {
          "base_uri": "https://localhost:8080/"
        },
        "id": "VA-qOx3hgjUk",
        "outputId": "ae5c180b-88c8-4267-d3ad-8a2ba992d340"
      },
      "execution_count": null,
      "outputs": [
        {
          "output_type": "stream",
          "name": "stdout",
          "text": [
            "torch.Size([60000, 1, 28, 28])\n"
          ]
        }
      ]
    },
    {
      "cell_type": "code",
      "source": [
        "\n",
        "if len(x_train.shape)== 3:\n",
        "  x_train = x_train.unsqueeze(1)\n",
        "  \n",
        "print(x_train.shape)\n",
        " "
      ],
      "metadata": {
        "colab": {
          "base_uri": "https://localhost:8080/"
        },
        "id": "gvhffkM0d_ul",
        "outputId": "d85a11b9-3986-428c-f5d3-a8be40718b37"
      },
      "execution_count": null,
      "outputs": [
        {
          "output_type": "stream",
          "name": "stdout",
          "text": [
            "torch.Size([60000, 1, 28, 28])\n"
          ]
        }
      ]
    },
    {
      "cell_type": "code",
      "source": [
        "if len(x_val.shape)== 3:\n",
        "  x_val = x_val.unsqueeze(1)\n",
        "  print(x_val.shape) "
      ],
      "metadata": {
        "colab": {
          "base_uri": "https://localhost:8080/"
        },
        "id": "7Y8WXpC3f0nE",
        "outputId": "a72bcc7e-3f40-4bac-eebb-ccb9df1a6676"
      },
      "execution_count": null,
      "outputs": [
        {
          "output_type": "stream",
          "name": "stdout",
          "text": [
            "torch.Size([10000, 1, 28, 28])\n"
          ]
        }
      ]
    },
    {
      "cell_type": "code",
      "source": [
        "from torchvision import utils\n",
        "import matplotlib.pyplot as plt \n",
        "import numpy as np\n",
        "%matplotlib inline "
      ],
      "metadata": {
        "id": "w0aIGt8CgAHU"
      },
      "execution_count": null,
      "outputs": []
    },
    {
      "cell_type": "code",
      "source": [
        "def show(img):\n",
        "  npimg = img.numpy()\n",
        "\n",
        "  npimg_tr = np.transpose(npimg, (1,2,0))\n",
        "  plt.imshow(npimg_tr)"
      ],
      "metadata": {
        "id": "4CgMvb1DkHjz"
      },
      "execution_count": null,
      "outputs": []
    },
    {
      "cell_type": "code",
      "source": [
        "x_grid=utils.make_grid(x_train[:40], nrow=8, padding=2) \n",
        "print(x_grid.shape)\n",
        "show(x_grid)"
      ],
      "metadata": {
        "colab": {
          "base_uri": "https://localhost:8080/",
          "height": 278
        },
        "id": "1EacOBhzk0FT",
        "outputId": "43916980-d5a1-4a4c-9a28-44611b2279a2"
      },
      "execution_count": null,
      "outputs": [
        {
          "output_type": "stream",
          "name": "stdout",
          "text": [
            "torch.Size([3, 152, 242])\n"
          ]
        },
        {
          "output_type": "display_data",
          "data": {
            "text/plain": [
              "<Figure size 432x288 with 1 Axes>"
            ],
            "image/png": "[encoded data removed]"
          },
          "metadata": {
            "needs_background": "light"
          }
        }
      ]
    },
    {
      "cell_type": "markdown",
      "source": [
        "# Data transformation\n",
        "\n"
      ],
      "metadata": {
        "id": "9krqIY9tlzXT"
      }
    },
    {
      "cell_type": "code",
      "source": [
        "from torchvision import transforms\n",
        "train_data = datasets.MNIST(path2data , train = True , download = True)"
      ],
      "metadata": {
        "id": "3bW9rZB2laZy"
      },
      "execution_count": null,
      "outputs": []
    },
    {
      "cell_type": "code",
      "source": [
        "data_transform = transforms.Compose([\n",
        "                                    transforms.RandomHorizontalFlip(p=1),\n",
        "                                    transforms.RandomVerticalFlip(p=1),\n",
        "                                    transforms.ToTensor(),\n",
        "])\n"
      ],
      "metadata": {
        "id": "ON8uwJZmmVui"
      },
      "execution_count": null,
      "outputs": []
    },
    {
      "cell_type": "code",
      "source": [
        "img = train_data[5][0]\n",
        "img_tr=data_transform(img)\n",
        "img_tr_np=img_tr.numpy()\n",
        "plt.subplot(1,2,1) \n",
        "plt.imshow(img,cmap=\"gray\") \n",
        "plt.title(\"original\") \n",
        "plt.subplot(1,2,2)\n",
        "plt.imshow(img_tr_np[0],cmap=\"gray\"); \n",
        "plt.title(\"transformed\")\n"
      ],
      "metadata": {
        "colab": {
          "base_uri": "https://localhost:8080/",
          "height": 233
        },
        "id": "bpQ1HFUNm8xS",
        "outputId": "89e0563d-6511-4261-f964-6829dd221fc1"
      },
      "execution_count": null,
      "outputs": [
        {
          "output_type": "execute_result",
          "data": {
            "text/plain": [
              "Text(0.5, 1.0, 'transformed')"
            ]
          },
          "metadata": {},
          "execution_count": 17
        },
        {
          "output_type": "display_data",
          "data": {
            "text/plain": [
              "<Figure size 432x288 with 2 Axes>"
            ],
            "image/png": "[encoded data removed]"
          },
          "metadata": {
            "needs_background": "light"
          }
        }
      ]
    },
    {
      "cell_type": "code",
      "source": [
        "train_data=datasets.MNIST(path2data, train=True, download=True, transform=data_transform ) "
      ],
      "metadata": {
        "id": "vIRuUzC9n8Gy"
      },
      "execution_count": null,
      "outputs": []
    },
    {
      "cell_type": "code",
      "source": [
        "from torch.utils.data import TensorDataset\n",
        "train_ds = TensorDataset(x_train, y_train)\n",
        "val_ds = TensorDataset(x_val, y_val)\n"
      ],
      "metadata": {
        "id": "0R24h2Ylpl8C"
      },
      "execution_count": null,
      "outputs": []
    },
    {
      "cell_type": "code",
      "source": [
        "for x,y in train_ds: \n",
        "   print(x.shape,y.item()) \n",
        "   break"
      ],
      "metadata": {
        "colab": {
          "base_uri": "https://localhost:8080/"
        },
        "id": "QDEQwguVxOlS",
        "outputId": "4f15454f-353c-4944-9d1e-4c4103e29cd9"
      },
      "execution_count": null,
      "outputs": [
        {
          "output_type": "stream",
          "name": "stdout",
          "text": [
            "torch.Size([1, 28, 28]) 5\n"
          ]
        }
      ]
    },
    {
      "cell_type": "markdown",
      "source": [
        "# Creating Data loader"
      ],
      "metadata": {
        "id": "WRLLifirxtl7"
      }
    },
    {
      "cell_type": "code",
      "source": [
        "from torch.utils.data import DataLoader\n",
        "train_dl = DataLoader(train_ds,batch_size = 8,shuffle = \"True\")\n",
        "val_dl = DataLoader(val_ds,batch_size = 8)\n"
      ],
      "metadata": {
        "id": "7je53WikxZYx"
      },
      "execution_count": null,
      "outputs": []
    },
    {
      "cell_type": "code",
      "source": [
        "for xb,yb in train_dl:\n",
        " print(xb.shape)\n",
        " print(yb.shape)\n",
        " break"
      ],
      "metadata": {
        "id": "tRouJ-p-yOoT",
        "colab": {
          "base_uri": "https://localhost:8080/"
        },
        "outputId": "0ede0b79-f7d6-4156-e2ed-f264650f59c6"
      },
      "execution_count": null,
      "outputs": [
        {
          "output_type": "stream",
          "name": "stdout",
          "text": [
            "torch.Size([8, 1, 28, 28])\n",
            "torch.Size([8])\n"
          ]
        }
      ]
    },
    {
      "cell_type": "markdown",
      "source": [
        "# BUILDING MODELS"
      ],
      "metadata": {
        "id": "VUXZs2k5z3dD"
      }
    },
    {
      "cell_type": "code",
      "source": [
        "import torch\n",
        "from torch import nn\n",
        "\n",
        "input_tensor = torch.randn(64 , 1000)\n",
        "linear_layer = nn.Linear(1000, 100)\n",
        "output = linear_layer(input_tensor)"
      ],
      "metadata": {
        "id": "7QIW5dDqtEj-"
      },
      "execution_count": null,
      "outputs": []
    },
    {
      "cell_type": "code",
      "source": [
        "output.size()"
      ],
      "metadata": {
        "colab": {
          "base_uri": "https://localhost:8080/"
        },
        "id": "AsShyhoF0s-h",
        "outputId": "a635c99c-4f87-4338-a1f8-cb434a55f3d8"
      },
      "execution_count": null,
      "outputs": [
        {
          "output_type": "execute_result",
          "data": {
            "text/plain": [
              "torch.Size([64, 100])"
            ]
          },
          "metadata": {},
          "execution_count": 24
        }
      ]
    },
    {
      "cell_type": "code",
      "source": [
        "model = nn.Sequential(\n",
        " nn.Linear(4, 5),\n",
        " nn.Sigmoid(),\n",
        " nn.Linear(5, 1),\n",
        ")\n",
        "print(model)\n"
      ],
      "metadata": {
        "colab": {
          "base_uri": "https://localhost:8080/"
        },
        "id": "vdO9wX322TiB",
        "outputId": "81035547-ddfa-44f4-9c42-2c69fbe226a6"
      },
      "execution_count": null,
      "outputs": [
        {
          "output_type": "stream",
          "name": "stdout",
          "text": [
            "Sequential(\n",
            "  (0): Linear(in_features=4, out_features=5, bias=True)\n",
            "  (1): Sigmoid()\n",
            "  (2): Linear(in_features=5, out_features=1, bias=True)\n",
            ")\n"
          ]
        }
      ]
    },
    {
      "cell_type": "code",
      "source": [
        "# import torch.nn.functional as F\n",
        "# class Net(nn.Module):\n",
        "#  def __init__(self):\n",
        "#   super(Net, self).__init__()\n",
        "#  def forward(self, x):\n",
        "#   pass"
      ],
      "metadata": {
        "id": "Xj4sh-St6g3j"
      },
      "execution_count": null,
      "outputs": []
    },
    {
      "cell_type": "code",
      "source": [
        "import torch.nn.functional as F\n",
        "\n",
        "class Net(nn.Module):\n",
        "  \n",
        "  def __init__(self):\n",
        "    super(Net, self).__init__()\n",
        "    self.conv1 = nn.Conv2d(1, 20, 5, 1)\n",
        "    self.conv2 = nn.Conv2d(20, 50, 5, 1)\n",
        "    self.fc1 = nn.Linear(4*4*50, 500)\n",
        "    self.fc2 = nn.Linear(500, 10)\n",
        "\n",
        "  def forward(self, x):\n",
        "    x = F.relu(self.conv1(x))\n",
        "    x = F.max_pool2d(x, 2, 2)\n",
        "    x = F.relu(self.conv2(x))\n",
        "    x = F.max_pool2d(x, 2, 2)\n",
        "    x = x.view(-1, 4*4*50)\n",
        "    x = F.relu(self.fc1(x))\n",
        "    x = self.fc2(x)\n",
        "    return F.log_softmax(x, dim=1)\n"
      ],
      "metadata": {
        "id": "fGzlfeAg3DUx"
      },
      "execution_count": null,
      "outputs": []
    },
    {
      "cell_type": "code",
      "source": [
        "# def forward(self, x):\n",
        "#  x = F.relu(self.conv1(x))\n",
        "#  x = F.max_pool2d(x, 2, 2)\n",
        "#  x = F.relu(self.conv2(x))\n",
        "#  x = F.max_pool2d(x, 2, 2)\n",
        "#  x = x.view(-1, 4*4*50)\n",
        "#  x = F.relu(self.fc1(x))\n",
        "#  x = self.fc2(x)\n",
        "#  return F.log_softmax(x, dim=1)\n"
      ],
      "metadata": {
        "id": "N9V-WppO31b6"
      },
      "execution_count": null,
      "outputs": []
    },
    {
      "cell_type": "code",
      "source": [
        "model = Net()\n",
        "print(model)"
      ],
      "metadata": {
        "colab": {
          "base_uri": "https://localhost:8080/"
        },
        "id": "nzBQLyfo6wNW",
        "outputId": "3d44f83d-52cd-41ae-bb04-1243282a0a43"
      },
      "execution_count": null,
      "outputs": [
        {
          "output_type": "stream",
          "name": "stdout",
          "text": [
            "Net(\n",
            "  (conv1): Conv2d(1, 20, kernel_size=(5, 5), stride=(1, 1))\n",
            "  (conv2): Conv2d(20, 50, kernel_size=(5, 5), stride=(1, 1))\n",
            "  (fc1): Linear(in_features=800, out_features=500, bias=True)\n",
            "  (fc2): Linear(in_features=500, out_features=10, bias=True)\n",
            ")\n"
          ]
        }
      ]
    },
    {
      "cell_type": "code",
      "source": [
        "pip install torchsummary\n"
      ],
      "metadata": {
        "colab": {
          "base_uri": "https://localhost:8080/"
        },
        "id": "3Y10fYtk7EGV",
        "outputId": "1ee9d3de-e72e-4290-a3bd-11e2dff70978"
      },
      "execution_count": null,
      "outputs": [
        {
          "output_type": "stream",
          "name": "stdout",
          "text": [
            "Looking in indexes: https://pypi.org/simple, https://us-python.pkg.dev/colab-wheels/public/simple/\n",
            "Requirement already satisfied: torchsummary in /usr/local/lib/python3.7/dist-packages (1.5.1)\n"
          ]
        }
      ]
    },
    {
      "cell_type": "code",
      "source": [
        "from torchsummary import summary\n",
        "summary(model, input_size=(1, 28, 28))\n",
        "\n"
      ],
      "metadata": {
        "colab": {
          "base_uri": "https://localhost:8080/"
        },
        "id": "f0zQ2lSt65rN",
        "outputId": "926398f3-b817-43fa-fad2-7804bb091937"
      },
      "execution_count": null,
      "outputs": [
        {
          "output_type": "stream",
          "name": "stdout",
          "text": [
            "----------------------------------------------------------------\n",
            "        Layer (type)               Output Shape         Param #\n",
            "================================================================\n",
            "            Conv2d-1           [-1, 20, 24, 24]             520\n",
            "            Conv2d-2             [-1, 50, 8, 8]          25,050\n",
            "            Linear-3                  [-1, 500]         400,500\n",
            "            Linear-4                   [-1, 10]           5,010\n",
            "================================================================\n",
            "Total params: 431,080\n",
            "Trainable params: 431,080\n",
            "Non-trainable params: 0\n",
            "----------------------------------------------------------------\n",
            "Input size (MB): 0.00\n",
            "Forward/backward pass size (MB): 0.12\n",
            "Params size (MB): 1.64\n",
            "Estimated Total Size (MB): 1.76\n",
            "----------------------------------------------------------------\n"
          ]
        }
      ]
    },
    {
      "cell_type": "code",
      "source": [
        ""
      ],
      "metadata": {
        "id": "GnEeLos87H3z"
      },
      "execution_count": null,
      "outputs": []
    },
    {
      "cell_type": "markdown",
      "source": [
        "# Loss functions"
      ],
      "metadata": {
        "id": "PBgbKmmM5t9S"
      }
    },
    {
      "cell_type": "code",
      "source": [
        ""
      ],
      "metadata": {
        "id": "TyQ8BIBQ67mE"
      },
      "execution_count": null,
      "outputs": []
    },
    {
      "cell_type": "code",
      "source": [
        "from torch import nn\n",
        "loss_function = nn.NLLLoss(reduction = \"sum\")"
      ],
      "metadata": {
        "id": "LjW-0k-g5xZC"
      },
      "execution_count": null,
      "outputs": []
    },
    {
      "cell_type": "code",
      "source": [
        "xb= xb.type(torch.float)"
      ],
      "metadata": {
        "id": "e0PwL6iy7gbX"
      },
      "execution_count": null,
      "outputs": []
    },
    {
      "cell_type": "code",
      "source": [
        "for xb , yb in train_dl :\n",
        "  xb= xb.type(torch.float)\n",
        "  out = model(xb)\n",
        "  loss = loss_function(out, yb)\n",
        "  print(loss.item())\n",
        "  break"
      ],
      "metadata": {
        "colab": {
          "base_uri": "https://localhost:8080/"
        },
        "id": "k1ZHfF5E5-8y",
        "outputId": "48959054-350e-4e66-d7f6-575a7793b27f"
      },
      "execution_count": null,
      "outputs": [
        {
          "output_type": "stream",
          "name": "stdout",
          "text": [
            "46.01802444458008\n"
          ]
        }
      ]
    },
    {
      "cell_type": "code",
      "source": [
        "loss.backward()"
      ],
      "metadata": {
        "id": "EvJzH5a37cbD"
      },
      "execution_count": null,
      "outputs": []
    },
    {
      "cell_type": "code",
      "source": [
        "from torch import optim\n",
        "opt = optim.Adam(model.parameters(), lr=1e-4)\n",
        " # update model parameters\n",
        "opt.step()\n",
        "\n",
        "opt.zero_grad()\n"
      ],
      "metadata": {
        "id": "GTGCW8U373Fj"
      },
      "execution_count": null,
      "outputs": []
    },
    {
      "cell_type": "markdown",
      "source": [
        "#TRAINING AND EVALUATION"
      ],
      "metadata": {
        "id": "7LJmcvW_bmCj"
      }
    },
    {
      "cell_type": "code",
      "source": [
        "\n",
        "def loss_batch(loss_func, xb, yb, yb_h, opt=None):\n",
        " # obtain loss\n",
        " loss = loss_func(yb_h, yb)\n",
        " # obtain performance metric\n",
        " metric_b = metrics_batch(yb,yb_h)\n",
        " if opt is not None:\n",
        "  loss.backward()\n",
        "  opt.step()\n",
        "  opt.zero_grad()\n",
        " return loss.item(), metric_b\n"
      ],
      "metadata": {
        "id": "ZClEDscKEQ7l"
      },
      "execution_count": null,
      "outputs": []
    },
    {
      "cell_type": "code",
      "source": [
        "def metrics_batch(target, output):\n",
        " # obtain output class\n",
        " pred = output.argmax(dim=1, keepdim=True)\n",
        " # compare output class with target class\n",
        " corrects=pred.eq(target.view_as(pred)).sum().item()\n",
        " return corrects\n"
      ],
      "metadata": {
        "id": "Od8bqi2Ib56s"
      },
      "execution_count": null,
      "outputs": []
    },
    {
      "cell_type": "code",
      "source": [
        "device = 'cpu'"
      ],
      "metadata": {
        "id": "TsqUH7HC-ZIN"
      },
      "execution_count": null,
      "outputs": []
    },
    {
      "cell_type": "code",
      "source": [
        "def loss_epoch(model,loss_func,dataset_dl,opt=None):\n",
        "  loss=0.0\n",
        "  metric=0.0\n",
        "  len_data=len(dataset_dl.dataset)\n",
        "  for xb, yb in dataset_dl:\n",
        "      xb=xb.type(torch.float).to(device)\n",
        "      yb=yb.to(device)\n",
        "      # obtain model output\n",
        "      yb_h=model(xb)\n",
        "      \n",
        "      loss_b,metric_b=loss_batch(loss_func, xb, yb,yb_h, opt)\n",
        "      loss+=loss_b\n",
        "      if metric_b is not None:\n",
        "          metric+=metric_b\n",
        "  loss/=len_data\n",
        "  metric/=len_data\n",
        "  return loss, metric"
      ],
      "metadata": {
        "id": "GgsOqp2-caOM"
      },
      "execution_count": null,
      "outputs": []
    },
    {
      "cell_type": "code",
      "source": [
        "def train_val(epochs, model, loss_function, opt, train_dl, val_dl):\n",
        "  for epoch in range (epochs):\n",
        "    model.train()\n",
        "    train_loss, train_metric=loss_epoch(model,loss_function,train_dl,opt)\n",
        "    model.eval()\n",
        "    with torch.no_grad():\n",
        "       val_loss, val_metric=loss_epoch(model,loss_function,val_dl)\n",
        "    accuracy=100*val_metric\n",
        "    print(\"epoch: %d, train loss: %.6f, val loss: %.6f,accuracy: %.2f\" %(epoch, train_loss,val_loss,accuracy))\n"
      ],
      "metadata": {
        "id": "HlmKZhvXcn9M"
      },
      "execution_count": null,
      "outputs": []
    },
    {
      "cell_type": "code",
      "source": [
        "epochs = 5\n",
        "train_val(epochs, model, loss_function, opt, train_dl, val_dl)"
      ],
      "metadata": {
        "colab": {
          "base_uri": "https://localhost:8080/"
        },
        "id": "FmgGzE3OcSS8",
        "outputId": "6d4c8acd-3afe-4246-bf5d-93545ce660db"
      },
      "execution_count": null,
      "outputs": [
        {
          "output_type": "stream",
          "name": "stdout",
          "text": [
            "epoch: 0, train loss: 0.055442, val loss: 0.050232,accuracy: 98.21\n",
            "epoch: 1, train loss: 0.030765, val loss: 0.048046,accuracy: 98.52\n",
            "epoch: 2, train loss: 0.019199, val loss: 0.055353,accuracy: 98.54\n",
            "epoch: 3, train loss: 0.013951, val loss: 0.044089,accuracy: 98.84\n",
            "epoch: 4, train loss: 0.011193, val loss: 0.063609,accuracy: 98.53\n"
          ]
        }
      ]
    },
    {
      "cell_type": "code",
      "source": [
        ""
      ],
      "metadata": {
        "id": "hUhdfFtvccjc"
      },
      "execution_count": null,
      "outputs": []
    }
  ]
}