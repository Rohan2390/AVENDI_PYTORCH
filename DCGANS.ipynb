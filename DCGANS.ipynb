{
  "nbformat": 4,
  "nbformat_minor": 0,
  "metadata": {
    "colab": {
      "provenance": [],
      "mount_file_id": "1aL3NsgZ_iy5n0NftIfTpjjHZP5lWHIn8",
      "authorship_tag": "ABX9TyP7Y2Rov5jUh0Vk8nWrX9/X",
      "include_colab_link": true
    },
    "kernelspec": {
      "name": "python3",
      "display_name": "Python 3"
    },
    "language_info": {
      "name": "python"
    },
    "widgets": {
      "application/vnd.jupyter.widget-state+json": {
        "61898c3558c64860babc5d5e05f2c9b0": {
          "model_module": "@jupyter-widgets/controls",
          "model_name": "HBoxModel",
          "model_module_version": "1.5.0",
          "state": {
            "_dom_classes": [],
            "_model_module": "@jupyter-widgets/controls",
            "_model_module_version": "1.5.0",
            "_model_name": "HBoxModel",
            "_view_count": null,
            "_view_module": "@jupyter-widgets/controls",
            "_view_module_version": "1.5.0",
            "_view_name": "HBoxView",
            "box_style": "",
            "children": [
              "IPY_MODEL_9aa86e1d14594187bdb750ce5d2d15aa",
              "IPY_MODEL_b5a5928c9f6a49c585bae7326a571022",
              "IPY_MODEL_941a8c0f689740759cc24173493cb6f6"
            ],
            "layout": "IPY_MODEL_c258993effd9441faac31c597477453d"
          }
        },
        "9aa86e1d14594187bdb750ce5d2d15aa": {
          "model_module": "@jupyter-widgets/controls",
          "model_name": "HTMLModel",
          "model_module_version": "1.5.0",
          "state": {
            "_dom_classes": [],
            "_model_module": "@jupyter-widgets/controls",
            "_model_module_version": "1.5.0",
            "_model_name": "HTMLModel",
            "_view_count": null,
            "_view_module": "@jupyter-widgets/controls",
            "_view_module_version": "1.5.0",
            "_view_name": "HTMLView",
            "description": "",
            "description_tooltip": null,
            "layout": "IPY_MODEL_3501dabb2e8148c0abe2f0c5b6daeb6e",
            "placeholder": "​",
            "style": "IPY_MODEL_8510eb13431e40dbb7e498a98d38c51d",
            "value": "100%"
          }
        },
        "b5a5928c9f6a49c585bae7326a571022": {
          "model_module": "@jupyter-widgets/controls",
          "model_name": "FloatProgressModel",
          "model_module_version": "1.5.0",
          "state": {
            "_dom_classes": [],
            "_model_module": "@jupyter-widgets/controls",
            "_model_module_version": "1.5.0",
            "_model_name": "FloatProgressModel",
            "_view_count": null,
            "_view_module": "@jupyter-widgets/controls",
            "_view_module_version": "1.5.0",
            "_view_name": "ProgressView",
            "bar_style": "success",
            "description": "",
            "description_tooltip": null,
            "layout": "IPY_MODEL_8219a251655041a896f0bd085ee2a3d9",
            "max": 2640397119,
            "min": 0,
            "orientation": "horizontal",
            "style": "IPY_MODEL_5e0c36c50c5c4cd4a2cb3df8a3d6420d",
            "value": 2640397119
          }
        },
        "941a8c0f689740759cc24173493cb6f6": {
          "model_module": "@jupyter-widgets/controls",
          "model_name": "HTMLModel",
          "model_module_version": "1.5.0",
          "state": {
            "_dom_classes": [],
            "_model_module": "@jupyter-widgets/controls",
            "_model_module_version": "1.5.0",
            "_model_name": "HTMLModel",
            "_view_count": null,
            "_view_module": "@jupyter-widgets/controls",
            "_view_module_version": "1.5.0",
            "_view_name": "HTMLView",
            "description": "",
            "description_tooltip": null,
            "layout": "IPY_MODEL_130612a78e514991978b9ceb0854f144",
            "placeholder": "​",
            "style": "IPY_MODEL_ccebd1c8c6114040a8dedcb0c07dfda3",
            "value": " 2640397119/2640397119 [01:46&lt;00:00, 27351013.54it/s]"
          }
        },
        "c258993effd9441faac31c597477453d": {
          "model_module": "@jupyter-widgets/base",
          "model_name": "LayoutModel",
          "model_module_version": "1.2.0",
          "state": {
            "_model_module": "@jupyter-widgets/base",
            "_model_module_version": "1.2.0",
            "_model_name": "LayoutModel",
            "_view_count": null,
            "_view_module": "@jupyter-widgets/base",
            "_view_module_version": "1.2.0",
            "_view_name": "LayoutView",
            "align_content": null,
            "align_items": null,
            "align_self": null,
            "border": null,
            "bottom": null,
            "display": null,
            "flex": null,
            "flex_flow": null,
            "grid_area": null,
            "grid_auto_columns": null,
            "grid_auto_flow": null,
            "grid_auto_rows": null,
            "grid_column": null,
            "grid_gap": null,
            "grid_row": null,
            "grid_template_areas": null,
            "grid_template_columns": null,
            "grid_template_rows": null,
            "height": null,
            "justify_content": null,
            "justify_items": null,
            "left": null,
            "margin": null,
            "max_height": null,
            "max_width": null,
            "min_height": null,
            "min_width": null,
            "object_fit": null,
            "object_position": null,
            "order": null,
            "overflow": null,
            "overflow_x": null,
            "overflow_y": null,
            "padding": null,
            "right": null,
            "top": null,
            "visibility": null,
            "width": null
          }
        },
        "3501dabb2e8148c0abe2f0c5b6daeb6e": {
          "model_module": "@jupyter-widgets/base",
          "model_name": "LayoutModel",
          "model_module_version": "1.2.0",
          "state": {
            "_model_module": "@jupyter-widgets/base",
            "_model_module_version": "1.2.0",
            "_model_name": "LayoutModel",
            "_view_count": null,
            "_view_module": "@jupyter-widgets/base",
            "_view_module_version": "1.2.0",
            "_view_name": "LayoutView",
            "align_content": null,
            "align_items": null,
            "align_self": null,
            "border": null,
            "bottom": null,
            "display": null,
            "flex": null,
            "flex_flow": null,
            "grid_area": null,
            "grid_auto_columns": null,
            "grid_auto_flow": null,
            "grid_auto_rows": null,
            "grid_column": null,
            "grid_gap": null,
            "grid_row": null,
            "grid_template_areas": null,
            "grid_template_columns": null,
            "grid_template_rows": null,
            "height": null,
            "justify_content": null,
            "justify_items": null,
            "left": null,
            "margin": null,
            "max_height": null,
            "max_width": null,
            "min_height": null,
            "min_width": null,
            "object_fit": null,
            "object_position": null,
            "order": null,
            "overflow": null,
            "overflow_x": null,
            "overflow_y": null,
            "padding": null,
            "right": null,
            "top": null,
            "visibility": null,
            "width": null
          }
        },
        "8510eb13431e40dbb7e498a98d38c51d": {
          "model_module": "@jupyter-widgets/controls",
          "model_name": "DescriptionStyleModel",
          "model_module_version": "1.5.0",
          "state": {
            "_model_module": "@jupyter-widgets/controls",
            "_model_module_version": "1.5.0",
            "_model_name": "DescriptionStyleModel",
            "_view_count": null,
            "_view_module": "@jupyter-widgets/base",
            "_view_module_version": "1.2.0",
            "_view_name": "StyleView",
            "description_width": ""
          }
        },
        "8219a251655041a896f0bd085ee2a3d9": {
          "model_module": "@jupyter-widgets/base",
          "model_name": "LayoutModel",
          "model_module_version": "1.2.0",
          "state": {
            "_model_module": "@jupyter-widgets/base",
            "_model_module_version": "1.2.0",
            "_model_name": "LayoutModel",
            "_view_count": null,
            "_view_module": "@jupyter-widgets/base",
            "_view_module_version": "1.2.0",
            "_view_name": "LayoutView",
            "align_content": null,
            "align_items": null,
            "align_self": null,
            "border": null,
            "bottom": null,
            "display": null,
            "flex": null,
            "flex_flow": null,
            "grid_area": null,
            "grid_auto_columns": null,
            "grid_auto_flow": null,
            "grid_auto_rows": null,
            "grid_column": null,
            "grid_gap": null,
            "grid_row": null,
            "grid_template_areas": null,
            "grid_template_columns": null,
            "grid_template_rows": null,
            "height": null,
            "justify_content": null,
            "justify_items": null,
            "left": null,
            "margin": null,
            "max_height": null,
            "max_width": null,
            "min_height": null,
            "min_width": null,
            "object_fit": null,
            "object_position": null,
            "order": null,
            "overflow": null,
            "overflow_x": null,
            "overflow_y": null,
            "padding": null,
            "right": null,
            "top": null,
            "visibility": null,
            "width": null
          }
        },
        "5e0c36c50c5c4cd4a2cb3df8a3d6420d": {
          "model_module": "@jupyter-widgets/controls",
          "model_name": "ProgressStyleModel",
          "model_module_version": "1.5.0",
          "state": {
            "_model_module": "@jupyter-widgets/controls",
            "_model_module_version": "1.5.0",
            "_model_name": "ProgressStyleModel",
            "_view_count": null,
            "_view_module": "@jupyter-widgets/base",
            "_view_module_version": "1.2.0",
            "_view_name": "StyleView",
            "bar_color": null,
            "description_width": ""
          }
        },
        "130612a78e514991978b9ceb0854f144": {
          "model_module": "@jupyter-widgets/base",
          "model_name": "LayoutModel",
          "model_module_version": "1.2.0",
          "state": {
            "_model_module": "@jupyter-widgets/base",
            "_model_module_version": "1.2.0",
            "_model_name": "LayoutModel",
            "_view_count": null,
            "_view_module": "@jupyter-widgets/base",
            "_view_module_version": "1.2.0",
            "_view_name": "LayoutView",
            "align_content": null,
            "align_items": null,
            "align_self": null,
            "border": null,
            "bottom": null,
            "display": null,
            "flex": null,
            "flex_flow": null,
            "grid_area": null,
            "grid_auto_columns": null,
            "grid_auto_flow": null,
            "grid_auto_rows": null,
            "grid_column": null,
            "grid_gap": null,
            "grid_row": null,
            "grid_template_areas": null,
            "grid_template_columns": null,
            "grid_template_rows": null,
            "height": null,
            "justify_content": null,
            "justify_items": null,
            "left": null,
            "margin": null,
            "max_height": null,
            "max_width": null,
            "min_height": null,
            "min_width": null,
            "object_fit": null,
            "object_position": null,
            "order": null,
            "overflow": null,
            "overflow_x": null,
            "overflow_y": null,
            "padding": null,
            "right": null,
            "top": null,
            "visibility": null,
            "width": null
          }
        },
        "ccebd1c8c6114040a8dedcb0c07dfda3": {
          "model_module": "@jupyter-widgets/controls",
          "model_name": "DescriptionStyleModel",
          "model_module_version": "1.5.0",
          "state": {
            "_model_module": "@jupyter-widgets/controls",
            "_model_module_version": "1.5.0",
            "_model_name": "DescriptionStyleModel",
            "_view_count": null,
            "_view_module": "@jupyter-widgets/base",
            "_view_module_version": "1.2.0",
            "_view_name": "StyleView",
            "description_width": ""
          }
        }
      }
    }
  },
  "cells": [
    {
      "cell_type": "markdown",
      "metadata": {
        "id": "view-in-github",
        "colab_type": "text"
      },
      "source": [
        "<a href=\"https://colab.research.google.com/github/Rohan2390/AVENDI_PYTORCH/blob/main/DCGANS.ipynb\" target=\"_parent\"><img src=\"https://colab.research.google.com/assets/colab-badge.svg\" alt=\"Open In Colab\"/></a>"
      ]
    },
    {
      "cell_type": "code",
      "execution_count": 1,
      "metadata": {
        "id": "yGqO3q-y_-Yt"
      },
      "outputs": [],
      "source": [
        "from torchvision import datasets\n",
        "import torchvision.transforms as transforms\n",
        "import os\n",
        "path2data = \"/content/drive/MyDrive/PYTORCH_AVENDI/chapter_9_gans\"\n",
        "os.makedirs(path2data , exist_ok = True)"
      ]
    },
    {
      "cell_type": "code",
      "source": [
        "h,w = 64,64\n",
        "mean = (0.5,0.5,0.5)\n",
        "std = (0.5,0.5,0.5)\n",
        "transform = transforms.Compose([\n",
        "            transforms.Resize((h,w)),\n",
        "            transforms.CenterCrop((h,w)),\n",
        "            transforms.ToTensor(),\n",
        "            transforms.Normalize(mean,std)])"
      ],
      "metadata": {
        "id": "gfUPosb_AeGd"
      },
      "execution_count": 5,
      "outputs": []
    },
    {
      "cell_type": "code",
      "source": [
        "train_ds = datasets.STL10(path2data , split = 'train',\n",
        "                          download = True,transform = transform)"
      ],
      "metadata": {
        "colab": {
          "base_uri": "https://localhost:8080/",
          "height": 84,
          "referenced_widgets": [
            "61898c3558c64860babc5d5e05f2c9b0",
            "9aa86e1d14594187bdb750ce5d2d15aa",
            "b5a5928c9f6a49c585bae7326a571022",
            "941a8c0f689740759cc24173493cb6f6",
            "c258993effd9441faac31c597477453d",
            "3501dabb2e8148c0abe2f0c5b6daeb6e",
            "8510eb13431e40dbb7e498a98d38c51d",
            "8219a251655041a896f0bd085ee2a3d9",
            "5e0c36c50c5c4cd4a2cb3df8a3d6420d",
            "130612a78e514991978b9ceb0854f144",
            "ccebd1c8c6114040a8dedcb0c07dfda3"
          ]
        },
        "id": "VEjofdBsBVnH",
        "outputId": "2e8120fd-7bf2-43bd-d361-c626e0c5b5b2"
      },
      "execution_count": 6,
      "outputs": [
        {
          "output_type": "stream",
          "name": "stdout",
          "text": [
            "Downloading http://ai.stanford.edu/~acoates/stl10/stl10_binary.tar.gz to /content/drive/MyDrive/PYTORCH_AVENDI/chapter_9_gans/stl10_binary.tar.gz\n"
          ]
        },
        {
          "output_type": "display_data",
          "data": {
            "text/plain": [
              "  0%|          | 0/2640397119 [00:00<?, ?it/s]"
            ],
            "application/vnd.jupyter.widget-view+json": {
              "version_major": 2,
              "version_minor": 0,
              "model_id": "61898c3558c64860babc5d5e05f2c9b0"
            }
          },
          "metadata": {}
        },
        {
          "output_type": "stream",
          "name": "stdout",
          "text": [
            "Extracting /content/drive/MyDrive/PYTORCH_AVENDI/chapter_9_gans/stl10_binary.tar.gz to /content/drive/MyDrive/PYTORCH_AVENDI/chapter_9_gans\n"
          ]
        }
      ]
    },
    {
      "cell_type": "code",
      "source": [
        "len(train_ds)"
      ],
      "metadata": {
        "colab": {
          "base_uri": "https://localhost:8080/"
        },
        "id": "DSM7q7ZJBm5a",
        "outputId": "798133ec-7c74-482e-8fb5-e57214360ee1"
      },
      "execution_count": 26,
      "outputs": [
        {
          "output_type": "execute_result",
          "data": {
            "text/plain": [
              "5000"
            ]
          },
          "metadata": {},
          "execution_count": 26
        }
      ]
    },
    {
      "cell_type": "code",
      "source": [
        "#Get a sample tensor from the dataset:\n",
        "import torch\n",
        "for x,_ in train_ds:\n",
        "    print(x.shape , torch.min(x) , torch.max(x))\n",
        "    break"
      ],
      "metadata": {
        "colab": {
          "base_uri": "https://localhost:8080/"
        },
        "id": "gyTiUCuPCc7g",
        "outputId": "c6bbce17-27b4-44e1-920d-d1e2534d9f18"
      },
      "execution_count": 27,
      "outputs": [
        {
          "output_type": "stream",
          "name": "stdout",
          "text": [
            "torch.Size([3, 64, 64]) tensor(-0.8980) tensor(0.9529)\n"
          ]
        }
      ]
    },
    {
      "cell_type": "code",
      "source": [
        "from torchvision.transforms.functional import to_pil_image\n",
        "import matplotlib.pyplot as plt\n",
        "%matplotlib inline\n",
        "#plt.imshow(to_pil_image (x))\n",
        "plt.imshow(to_pil_image (0.5*x+0.5))"
      ],
      "metadata": {
        "colab": {
          "base_uri": "https://localhost:8080/",
          "height": 285
        },
        "id": "9C-hNECICdDr",
        "outputId": "de0effa9-4104-4fc0-c070-36b3633a5f9a"
      },
      "execution_count": 29,
      "outputs": [
        {
          "output_type": "execute_result",
          "data": {
            "text/plain": [
              "<matplotlib.image.AxesImage at 0x7f54e8042a50>"
            ]
          },
          "metadata": {},
          "execution_count": 29
        },
        {
          "output_type": "display_data",
          "data": {
            "text/plain": [
              "<Figure size 432x288 with 1 Axes>"
            ],
            "image/png": "[encoded data removed]"
          },
          "metadata": {
            "needs_background": "light"
          }
        }
      ]
    },
    {
      "cell_type": "code",
      "source": [
        "train_dl = torch.utils.data.DataLoader (celeb_ds , batch_size = 32,\n",
        "                                   shuffle = True)"
      ],
      "metadata": {
        "colab": {
          "base_uri": "https://localhost:8080/",
          "height": 184
        },
        "id": "i5gqyGvDCdGH",
        "outputId": "b57aca87-ab06-4d8d-9d27-cb45721d1801"
      },
      "execution_count": 17,
      "outputs": [
        {
          "output_type": "error",
          "ename": "NameError",
          "evalue": "ignored",
          "traceback": [
            "\u001b[0;31m---------------------------------------------------------------------------\u001b[0m",
            "\u001b[0;31mNameError\u001b[0m                                 Traceback (most recent call last)",
            "\u001b[0;32m<ipython-input-17-b4112949f9b7>\u001b[0m in \u001b[0;36m<module>\u001b[0;34m\u001b[0m\n\u001b[0;32m----> 1\u001b[0;31m train_dl = torch.utils.data.DataLoader (celeb_ds , batch_size = 32,\n\u001b[0m\u001b[1;32m      2\u001b[0m                                    shuffle = True)\n",
            "\u001b[0;31mNameError\u001b[0m: name 'celeb_ds' is not defined"
          ]
        }
      ]
    },
    {
      "cell_type": "code",
      "source": [
        "from torch.utils.data import DataLoader\n",
        "train_dl = DataLoader(train_ds , batch_size = 32 , shuffle = True)"
      ],
      "metadata": {
        "id": "TcFRu-ogCdIx"
      },
      "execution_count": 16,
      "outputs": []
    },
    {
      "cell_type": "code",
      "source": [
        "for x,y in train_dl:\n",
        "    print(x.shape,y.shape)\n",
        "    break"
      ],
      "metadata": {
        "colab": {
          "base_uri": "https://localhost:8080/"
        },
        "id": "2uLPIsLQCdLR",
        "outputId": "703b4e98-df59-4fa0-f761-d99bf76822b4"
      },
      "execution_count": 33,
      "outputs": [
        {
          "output_type": "stream",
          "name": "stdout",
          "text": [
            "torch.Size([32, 3, 64, 64]) torch.Size([32])\n"
          ]
        }
      ]
    },
    {
      "cell_type": "markdown",
      "source": [
        "### **GENERATOR CLASS**"
      ],
      "metadata": {
        "id": "QmD7tVwgIaRO"
      }
    },
    {
      "cell_type": "code",
      "source": [
        "from torch import nn\n",
        "import torch.nn.functional as F\n",
        "\n",
        "class Generator(nn.Module):\n",
        "    def__init__(self, params):\n",
        "\n",
        "        super(Generator, self).__init__()\n",
        "        nz = params[\"nz\"]\n",
        "        ngf = params[\"ngf\"]\n",
        "        noc = params[\"noc\"]\n",
        "\n",
        "        self.dconv1 = nn.ConvTranspose2d(nz , ngf*8 ,\n",
        "                                        kernel_size = 4,stride = 1,\n",
        "                                        padding =0,bias = False)\n",
        "        self.bn1 = nn.BatchNorm2d(ngf * 8)\n",
        "\n",
        "        self.dconv2 = nn.ConvTranspose2d(ngf*8 , ngf*4 ,\n",
        "                                        kernel_size = 4,stride = 2,\n",
        "                                        padding =1,bias = False)\n",
        "        self.bn2 = nn.BatchNorm2d(ngf * 4)\n",
        "\n",
        "        self.dconv2 = nn.ConvTranspose2d(ngf*4 , ngf*2 ,\n",
        "                                        kernel_size = 4,stride = 2,\n",
        "                                        padding =1,bias = False)\n",
        "        self.bn3 = nn.BatchNorm2d(ngf * 2)\n",
        "\n",
        "        self.dconv4 = nn.ConvTranspose2d(ngf*2 , ngf ,\n",
        "                                        kernel_size = 4,stride = 2,\n",
        "                                        padding =1,bias = False)\n",
        "        self.bn4 = nn.BatchNorm2d(ngf)\n",
        "\n",
        "        self.dconv5 = nn.ConvTranspose2d(ngf , noc ,\n",
        "                                        kernel_size = 4,stride = 2,\n",
        "                                        padding =1,bias = False)\n",
        "            \n",
        "\n",
        "    def forward(self,x):\n",
        "        x=F.relu(self.bn1(self.dconv1(x)))\n",
        "        x=F.relu(self.bn2(self.dconv2(x)))\n",
        "        x=F.relu(self.bn3(self.dconv3(x)))\n",
        "        x=F.relu(self.bn4(self.dconv4(x)))\n",
        "        out=torch.tanh(self.dconv5(x))\n",
        "        return out\n",
        "\n",
        "\n",
        "\n",
        "\n",
        "    "
      ],
      "metadata": {
        "colab": {
          "base_uri": "https://localhost:8080/",
          "height": 132
        },
        "id": "iNVzzDz5CdN9",
        "outputId": "1982308b-d48b-4256-d5ce-2440c8edb852"
      },
      "execution_count": 37,
      "outputs": [
        {
          "output_type": "error",
          "ename": "SyntaxError",
          "evalue": "ignored",
          "traceback": [
            "\u001b[0;36m  File \u001b[0;32m\"<ipython-input-37-74d694b8e2c2>\"\u001b[0;36m, line \u001b[0;32m5\u001b[0m\n\u001b[0;31m    def__init__(self, params):\u001b[0m\n\u001b[0m                              ^\u001b[0m\n\u001b[0;31mSyntaxError\u001b[0m\u001b[0;31m:\u001b[0m invalid syntax\n"
          ]
        }
      ]
    },
    {
      "cell_type": "code",
      "source": [],
      "metadata": {
        "id": "pi_5KCHlNX-_"
      },
      "execution_count": null,
      "outputs": []
    }
  ]
}